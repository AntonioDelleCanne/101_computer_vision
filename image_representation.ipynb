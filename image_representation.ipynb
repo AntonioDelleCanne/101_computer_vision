{
 "cells": [
  {
   "cell_type": "markdown",
   "metadata": {},
   "source": [
    "## How do computers see"
   ]
  },
  {
   "cell_type": "markdown",
   "metadata": {},
   "source": [
    "RGB representation:\n",
    "* Three grayscale layers, one for each channel\n",
    "* In grayscale each pixel is represented with 8 bits (1 byte):\n",
    "    * 0 is black\n",
    "    * 255 is white\n",
    "    \n",
    "<img src=\"imgs_markdown/rgb_matrix.jpeg\" width=600 height=400/>"
   ]
  },
  {
   "cell_type": "code",
   "execution_count": 39,
   "metadata": {},
   "outputs": [],
   "source": [
    "# import libraries\n",
    "import cv2 as cv\n",
    "import matplotlib.pyplot as plt\n",
    "import numpy as np\n",
    "from ipywidgets import interact"
   ]
  },
  {
   "cell_type": "code",
   "execution_count": 54,
   "metadata": {},
   "outputs": [
    {
     "data": {
      "text/plain": [
       "(10, 10, 3)"
      ]
     },
     "execution_count": 54,
     "metadata": {},
     "output_type": "execute_result"
    }
   ],
   "source": [
    "# read the image\n",
    "img = cv.imread('imgs/tree.png')\n",
    "img = cv.cvtColor(img, cv.COLOR_BGR2RGB)\n",
    "img.shape"
   ]
  },
  {
   "cell_type": "code",
   "execution_count": 56,
   "metadata": {},
   "outputs": [
    {
     "data": {
      "image/png": "[encoded data removed]",
      "text/plain": [
       "<Figure size 720x720 with 4 Axes>"
      ]
     },
     "metadata": {
      "needs_background": "light"
     },
     "output_type": "display_data"
    }
   ],
   "source": [
    "red = img[:,:,0]\n",
    "green = img[:,:,1]\n",
    "blue = img[:,:,2]\n",
    "fig, (ax1,ax2,ax3,ax4) = plt.subplots(1,4, figsize=(10,10))\n",
    "ax1.imshow(img, vmin=0, vmax=255)\n",
    "ax1.set_axis_off()\n",
    "ax1.set_title('Original')\n",
    "ax2.imshow(red, cmap='gray', vmin=0, vmax=255)\n",
    "ax2.set_axis_off()\n",
    "ax2.set_title('Red')\n",
    "ax3.imshow(green,cmap='gray', vmin=0, vmax=255)\n",
    "ax3.set_axis_off()\n",
    "ax3.set_title('Green')\n",
    "ax4.imshow(blue,cmap='gray', vmin=0, vmax=255)\n",
    "ax4.set_axis_off()\n",
    "ax4.set_title('Blue')\n",
    "plt.show()"
   ]
  },
  {
   "cell_type": "markdown",
   "metadata": {},
   "source": [
    "Each channel is a 10x10 matrix of values ranging from 0 to 255."
   ]
  },
  {
   "cell_type": "code",
   "execution_count": 57,
   "metadata": {},
   "outputs": [
    {
     "data": {
      "application/vnd.jupyter.widget-view+json": {
       "model_id": "905dcf0e860348df90fc209750410dd5",
       "version_major": 2,
       "version_minor": 0
      },
      "text/plain": [
       "interactive(children=(Dropdown(description='channel', options=('RED', 'GREEN', 'BLUE'), value='RED'), Output()…"
      ]
     },
     "metadata": {},
     "output_type": "display_data"
    }
   ],
   "source": [
    "channels = {\n",
    "    \"RED\": 0,\n",
    "    \"GREEN\": 1,\n",
    "    \"BLUE\": 2\n",
    "}\n",
    "@interact(channel=list(channels))\n",
    "def show_channel(channel):\n",
    "    print(img[:,:,channels[channel]])"
   ]
  }
 ],
 "metadata": {
  "interpreter": {
   "hash": "69c0d15cd8c93ff2938193fad93ce7a7f43d8a1ea61b422aa17d99ca89ddcacf"
  },
  "kernelspec": {
   "display_name": "Python 3.9.10 ('cv101')",
   "language": "python",
   "name": "python3"
  },
  "language_info": {
   "codemirror_mode": {
    "name": "ipython",
    "version": 3
   },
   "file_extension": ".py",
   "mimetype": "text/x-python",
   "name": "python",
   "nbconvert_exporter": "python",
   "pygments_lexer": "ipython3",
   "version": "3.9.10"
  },
  "orig_nbformat": 4
 },
 "nbformat": 4,
 "nbformat_minor": 2
}
