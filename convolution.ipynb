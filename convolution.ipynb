{
 "cells": [
  {
   "cell_type": "markdown",
   "metadata": {},
   "source": [
    "## Convolutions"
   ]
  },
  {
   "cell_type": "code",
   "execution_count": 1,
   "metadata": {},
   "outputs": [],
   "source": [
    "import cv2 as cv\n",
    "import matplotlib.pyplot as plt\n",
    "import numpy as np"
   ]
  },
  {
   "cell_type": "code",
   "execution_count": 51,
   "metadata": {},
   "outputs": [],
   "source": [
    "img = cv.imread('imgs/tree.png')\n",
    "img = cv.cvtColor(img, cv.COLOR_BGR2RGB)"
   ]
  },
  {
   "cell_type": "code",
   "execution_count": 52,
   "metadata": {},
   "outputs": [
    {
     "data": {
      "text/plain": [
       "(10, 10, 3)"
      ]
     },
     "execution_count": 52,
     "metadata": {},
     "output_type": "execute_result"
    }
   ],
   "source": [
    "img.shape"
   ]
  },
  {
   "cell_type": "code",
   "execution_count": 80,
   "metadata": {},
   "outputs": [
    {
     "data": {
      "text/plain": [
       "array([[243, 243, 243,  80,  80,  80, 243, 243, 243, 243],\n",
       "       [243, 243,  80,  80,  80,  80,  80, 243, 243, 243],\n",
       "       [243,  80,  80,  80,  80,  80,  80,  80, 243, 243],\n",
       "       [243,  80,  80,  80,  80,  80,  80,  80, 243, 243],\n",
       "       [243,  80,  80,  80,  80,  80,  80,  80, 243, 243],\n",
       "       [243, 243,  80,  80,  80,  80,  80, 243, 243, 243],\n",
       "       [243, 243, 243,  72,  72,  72, 243, 243, 255, 243],\n",
       "       [243, 243, 243,  72,  72,  72, 243, 255,  59, 255],\n",
       "       [243, 243, 243,  72,  72,  72, 243, 243, 255, 243],\n",
       "       [243, 243, 243,  72,  72,  72, 243, 243,  74, 243]], dtype=uint8)"
      ]
     },
     "execution_count": 80,
     "metadata": {},
     "output_type": "execute_result"
    }
   ],
   "source": [
    "img[:,:,2]"
   ]
  },
  {
   "cell_type": "code",
   "execution_count": 79,
   "metadata": {},
   "outputs": [
    {
     "data": {
      "text/plain": [
       "<matplotlib.image.AxesImage at 0x120d35910>"
      ]
     },
     "execution_count": 79,
     "metadata": {},
     "output_type": "execute_result"
    },
    {
     "data": {
      "image/png": "[encoded data removed]",
      "text/plain": [
       "<Figure size 432x288 with 1 Axes>"
      ]
     },
     "metadata": {
      "needs_background": "light"
     },
     "output_type": "display_data"
    }
   ],
   "source": [
    "plt.imshow(img[:,:,2],cmap='gray')"
   ]
  },
  {
   "cell_type": "code",
   "execution_count": 60,
   "metadata": {},
   "outputs": [
    {
     "data": {
      "image/png": "[encoded data removed]",
      "text/plain": [
       "<Figure size 720x720 with 4 Axes>"
      ]
     },
     "metadata": {
      "needs_background": "light"
     },
     "output_type": "display_data"
    }
   ],
   "source": [
    "red, green, blue = [np.zeros_like(img) for i in range(3)]\n",
    "red[:,:,0] = img[:,:,0]\n",
    "green[:,:,1] = img[:,:,1]\n",
    "blue[:,:,2] = img[:,:,2]\n",
    "fig, (ax1,ax2,ax3,ax4) = plt.subplots(1,4, figsize=(10,10))\n",
    "ax1.imshow(img)\n",
    "ax1.set_axis_off()\n",
    "ax1.set_title('Original')\n",
    "ax2.imshow(red)\n",
    "ax2.set_axis_off()\n",
    "ax2.set_title('Red')\n",
    "ax3.imshow(green)\n",
    "ax3.set_axis_off()\n",
    "ax3.set_title('Green')\n",
    "ax4.imshow(blue)\n",
    "ax4.set_axis_off()\n",
    "ax4.set_title('Blue')\n",
    "plt.show()"
   ]
  },
  {
   "cell_type": "code",
   "execution_count": 71,
   "metadata": {},
   "outputs": [
    {
     "data": {
      "image/png": "[encoded data removed]",
      "text/plain": [
       "<Figure size 720x720 with 4 Axes>"
      ]
     },
     "metadata": {
      "needs_background": "light"
     },
     "output_type": "display_data"
    }
   ],
   "source": [
    "red = img[:,:,0]\n",
    "green = img[:,:,1]\n",
    "blue = img[:,:,2]\n",
    "fig, (ax1,ax2,ax3,ax4) = plt.subplots(1,4, figsize=(10,10))\n",
    "ax1.imshow(img)\n",
    "ax1.set_axis_off()\n",
    "ax1.set_title('Original')\n",
    "ax2.imshow(red, cmap='gray')\n",
    "ax2.set_axis_off()\n",
    "ax2.set_title('Red')\n",
    "ax3.imshow(green,cmap='gray')\n",
    "ax3.set_axis_off()\n",
    "ax3.set_title('Green')\n",
    "ax4.imshow(blue,cmap='gray')\n",
    "ax4.set_axis_off()\n",
    "ax4.set_title('Blue')\n",
    "plt.show()"
   ]
  }
 ],
 "metadata": {
  "interpreter": {
   "hash": "69c0d15cd8c93ff2938193fad93ce7a7f43d8a1ea61b422aa17d99ca89ddcacf"
  },
  "kernelspec": {
   "display_name": "Python 3.9.10 ('cv101')",
   "language": "python",
   "name": "python3"
  },
  "language_info": {
   "codemirror_mode": {
    "name": "ipython",
    "version": 3
   },
   "file_extension": ".py",
   "mimetype": "text/x-python",
   "name": "python",
   "nbconvert_exporter": "python",
   "pygments_lexer": "ipython3",
   "version": "3.9.10"
  },
  "orig_nbformat": 4
 },
 "nbformat": 4,
 "nbformat_minor": 2
}
