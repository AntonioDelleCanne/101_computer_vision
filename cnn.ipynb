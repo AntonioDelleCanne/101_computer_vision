{
 "cells": [
  {
   "cell_type": "code",
   "execution_count": 4,
   "metadata": {},
   "outputs": [],
   "source": [
    "import cv2 as cv\n",
    "import matplotlib.pyplot as plt\n",
    "import numpy as np\n",
    "from ipywidgets import interact"
   ]
  },
  {
   "cell_type": "code",
   "execution_count": 5,
   "metadata": {},
   "outputs": [],
   "source": [
    "img = cv.imread('imgs/tree.png')\n",
    "img = cv.cvtColor(img, cv.COLOR_BGR2RGB)\n",
    "img_gray = cv.cvtColor(img, cv.COLOR_BGR2GRAY)"
   ]
  },
  {
   "cell_type": "markdown",
   "metadata": {},
   "source": [
    "## Convolutional Neural Networks"
   ]
  },
  {
   "cell_type": "code",
   "execution_count": 19,
   "metadata": {},
   "outputs": [
    {
     "data": {
      "application/vnd.jupyter.widget-view+json": {
       "model_id": "482eaa503282478d882b660390bff1af",
       "version_major": 2,
       "version_minor": 0
      },
      "text/plain": [
       "interactive(children=(IntSlider(value=127, description='thr', max=255), Dropdown(description='invert', options…"
      ]
     },
     "metadata": {},
     "output_type": "display_data"
    }
   ],
   "source": [
    "# 138 obscures the tree\n",
    "# 175 isolates the flower\n",
    "@interact(thr=(0,255), invert=[True,False])\n",
    "def images_thr(thr, invert):\n",
    "    # img_thr = img_gray.copy()\n",
    "    bin_filter = img_gray > thr\n",
    "    if invert:\n",
    "        bin_filter = np.logical_not(bin_filter)\n",
    "    \n",
    "    # img_thr[bin_filter] = 255\n",
    "    # img_thr[np.logical_not(bin_filter)] = 0\n",
    "    img_thr = np.logical_and(img_gray, bin_filter) *255\n",
    "\n",
    "    img_segmented = img.copy()\n",
    "    img_segmented[np.logical_not(bin_filter)] = 0\n",
    "\n",
    "    fig, ((ax1,ax2,ax3,ax4),(ax5,ax6,ax7,ax8)) = plt.subplots(2,4, figsize=(12,12))\n",
    "    ax1.imshow(img, vmin=0, vmax=255)\n",
    "    ax1.set_axis_off()\n",
    "    ax1.set_title('Original')\n",
    "    ax2.imshow(img_gray, cmap='gray',vmin=0, vmax=255)\n",
    "    ax2.set_axis_off()\n",
    "    ax2.set_title('Gray')\n",
    "    ax3.imshow(img_thr, cmap='gray',vmin=0, vmax=255)\n",
    "    ax3.set_axis_off()\n",
    "    ax3.set_title('Threshold Mask')\n",
    "    ax4.imshow(img_segmented, cmap='gray',vmin=0, vmax=255)\n",
    "    ax4.set_axis_off()\n",
    "    ax4.set_title('Segmented Image')\n",
    "    ax5.imshow(img_segmented, cmap='gray',vmin=0, vmax=255)\n",
    "    ax5.set_axis_off()\n",
    "    ax5.set_title('Last Square')\n",
    "    ax6.imshow(img_segmented, cmap='gray',vmin=0, vmax=255)\n",
    "    ax6.set_axis_off()\n",
    "    ax6.set_title('Result')\n",
    "    ax7.set_axis_off()\n",
    "    ax8.set_axis_off()"
   ]
  },
  {
   "cell_type": "markdown",
   "metadata": {},
   "source": [
    "## Convolutions"
   ]
  }
 ],
 "metadata": {
  "interpreter": {
   "hash": "69c0d15cd8c93ff2938193fad93ce7a7f43d8a1ea61b422aa17d99ca89ddcacf"
  },
  "kernelspec": {
   "display_name": "Python 3.9.10 ('cv101')",
   "language": "python",
   "name": "python3"
  },
  "language_info": {
   "codemirror_mode": {
    "name": "ipython",
    "version": 3
   },
   "file_extension": ".py",
   "mimetype": "text/x-python",
   "name": "python",
   "nbconvert_exporter": "python",
   "pygments_lexer": "ipython3",
   "version": "3.9.10"
  },
  "orig_nbformat": 4
 },
 "nbformat": 4,
 "nbformat_minor": 2
}
