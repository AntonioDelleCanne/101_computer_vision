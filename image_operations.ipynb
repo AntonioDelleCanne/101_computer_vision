{
 "cells": [
  {
   "cell_type": "code",
   "execution_count": 1,
   "metadata": {
    "tags": [
     "hide-cell"
    ]
   },
   "outputs": [],
   "source": [
    "# import libraries\n",
    "import cv2 as cv\n",
    "import matplotlib.pyplot as plt\n",
    "import numpy as np\n",
    "from ipywidgets import interact\n",
    "import matplotlib.patches as patches\n",
    "from fractions import Fraction\n",
    "\n",
    "def plot_matrix(matrix, ax, title):\n",
    "\n",
    "    min_val, max_val = 0, matrix.shape[1]\n",
    "\n",
    "    for i in range(max_val):\n",
    "        for j in range(max_val):\n",
    "            c = matrix[j][i]\n",
    "            ax.text(i+0.5, j+0.5, str(Fraction(c).limit_denominator()), va='center', ha='center')\n",
    "    \n",
    "    \n",
    "    \n",
    "    ax.set_xticks(np.arange(max_val))\n",
    "    ax.set_yticks(np.arange(max_val))\n",
    "    \n",
    "    ax.set_xlim(min_val, max_val)\n",
    "    ax.set_ylim(min_val, max_val)\n",
    "    \n",
    "    ax.set_title(title)\n",
    "    ax.grid()\n",
    "    ax.set_yticklabels([])\n",
    "    ax.set_xticklabels([])\n",
    "    \n",
    "    ax=plt.gca()                            # get the axis\n",
    "    ax.set_ylim(ax.get_ylim()[::-1])        # invert the axis\n",
    "    ax.xaxis.tick_top()                     # and move the X-Axis      \n",
    "    ax.yaxis.set_ticks(np.arange(0, matrix.shape[1], 1)) # set y-ticks\n",
    "    ax.yaxis.tick_left() \n",
    "    \n",
    "    \n",
    "def convolution(img, pad_mode,kernel_name,progress=0, show_details=False):\n",
    "    kernel = kernels[kernel_name]\n",
    "    kernel_size = kernel.shape[0]\n",
    "    pad = int((kernel_size-1) / 2)\n",
    "    # apply the convolution\n",
    "    img_transformed = img.copy()\n",
    "    n_dims = img.shape[-1]\n",
    "    img_pad = np.zeros_like(img, shape=(img.shape[0]+(pad*2), img.shape[1]+(pad*2),n_dims))\n",
    "    for i in range(n_dims):\n",
    "        img_pad[:,:,i] = np.pad(img[:,:,i], pad, mode=pad_mode)\n",
    "    \n",
    "    i=0\n",
    "    j=0\n",
    "    last_i = 0\n",
    "    last_j = 0\n",
    "    breaked = False\n",
    "    last_square = np.zeros_like(img_pad, shape=(kernel_size,kernel_size,n_dims))\n",
    "    last_square_res = np.zeros_like(img_pad, shape=(kernel_size,kernel_size,n_dims))\n",
    "    if progress > 0:\n",
    "        for i in range(img.shape[0]):\n",
    "            if breaked:\n",
    "                break\n",
    "            j=0\n",
    "            for j in range(img.shape[1]):\n",
    "                last_square = img_pad[i:i+kernel_size, j:j+kernel_size]\n",
    "                last_i = i\n",
    "                last_j = j\n",
    "                for s in range(n_dims):\n",
    "                    img_transformed[i,j, s] = abs((img_pad[i:i+kernel_size, j:j+kernel_size, s] * kernel).sum())\n",
    "                    last_square_res[:,:,s] = img_transformed[i,j,s]\n",
    "                if i*img.shape[1] + j >= progress-1:\n",
    "                    breaked = True\n",
    "                    break\n",
    "    if show_details:\n",
    "        for dim in range(n_dims+1):\n",
    "            if dim == 0:\n",
    "                img_plot = img.copy()\n",
    "                img_pad_plot = img_pad.copy()\n",
    "                img_transformed_plot = img_transformed.copy()\n",
    "                last_square_plot = last_square.copy() \n",
    "                last_square_res_plot = last_square_res.copy()\n",
    "            else:\n",
    "                img_plot = img.copy()[:,:,dim-1]\n",
    "                img_pad_plot = img_pad.copy()[:,:,dim-1]\n",
    "                img_transformed_plot = img_transformed.copy()[:,:,dim-1]\n",
    "                last_square_plot = last_square.copy()[:,:,dim-1]\n",
    "                last_square_res_plot = last_square_res.copy()[:,:,dim-1]\n",
    "\n",
    "            name = names[dim]\n",
    "            fig, (ax1,ax2,ax3, ax4, ax5) = plt.subplots(1,5, figsize=(20,15))\n",
    "            ax1.imshow(img_plot, cmap='gray',vmin=0, vmax=255)\n",
    "            ax1.set_axis_off()\n",
    "            ax1.set_title(name)\n",
    "            ax2.imshow(img_pad_plot, cmap='gray',vmin=0, vmax=255)\n",
    "            ax2.set_axis_off()\n",
    "            ax2.set_title('Padded')\n",
    "            ax3.imshow(img_transformed_plot, cmap='gray',vmin=0, vmax=255)\n",
    "            ax3.set_axis_off()\n",
    "            ax3.set_title('Transformed')\n",
    "            ax4.imshow(last_square_plot, cmap='gray',vmin=0, vmax=255)\n",
    "            ax4.set_axis_off()\n",
    "            ax4.set_title('Last Square')\n",
    "            ax5.imshow(last_square_res_plot, cmap='gray',vmin=0, vmax=255)\n",
    "            ax5.set_axis_off()\n",
    "            ax5.set_title('Last Square Result')\n",
    "\n",
    "            # Create a Rectangle patch\n",
    "            rect1 = patches.Rectangle((last_j-0.55, last_i-0.55), 3, 3, linewidth=1, edgecolor='r', facecolor='none')\n",
    "            rect2 = patches.Rectangle((last_j-0.55+1, last_i-0.55+1), 1, 1, linewidth=1, edgecolor='r', facecolor='none')\n",
    "\n",
    "\n",
    "            # Add the patch to the Axes\n",
    "            if progress > 0:\n",
    "                ax2.add_patch(rect1)\n",
    "                ax2.add_patch(rect2)\n",
    "\n",
    "    else: \n",
    "        fig, (ax1,ax2,ax3, ax4, ax5) = plt.subplots(1,5, figsize=(20,15))\n",
    "        ax1.imshow(img, cmap='gray',vmin=0, vmax=255)\n",
    "        ax1.set_axis_off()\n",
    "        ax1.set_title('Original')\n",
    "        ax2.imshow(img_pad, cmap='gray',vmin=0, vmax=255)\n",
    "        ax2.set_axis_off()\n",
    "        ax2.set_title('Padded')\n",
    "        ax3.imshow(img_transformed, cmap='gray',vmin=0, vmax=255)\n",
    "        ax3.set_axis_off()\n",
    "        ax3.set_title('Transformed')\n",
    "        ax4.imshow(last_square, cmap='gray',vmin=0, vmax=255)\n",
    "        ax4.set_axis_off()\n",
    "        ax4.set_title('Last Square')\n",
    "        ax5.imshow(last_square_res, cmap='gray',vmin=0, vmax=255)\n",
    "        ax5.set_axis_off()\n",
    "        ax5.set_title('Last Square Result')\n",
    "\n",
    "        # Create a Rectangle patch\n",
    "        rect1 = patches.Rectangle((last_j-0.55, last_i-0.55), 3, 3, linewidth=1, edgecolor='r', facecolor='none')\n",
    "        rect2 = patches.Rectangle((last_j-0.55+1, last_i-0.55+1), 1, 1, linewidth=1, edgecolor='r', facecolor='none')\n",
    "\n",
    "\n",
    "        # Add the patch to the Axes\n",
    "        if progress > 0:\n",
    "            ax2.add_patch(rect1)\n",
    "            ax2.add_patch(rect2)\n",
    "    \n"
   ]
  },
  {
   "cell_type": "code",
   "execution_count": 2,
   "metadata": {
    "tags": [
     "hide-cell"
    ]
   },
   "outputs": [],
   "source": [
    "# read image\n",
    "img_bgr = cv.imread('imgs/tree.png')\n",
    "# img_bgr = cv.imread('imgs/puppy.jpeg')\n",
    "img = cv.cvtColor(img_bgr, cv.COLOR_BGR2RGB)\n",
    "img_gray = cv.cvtColor(img, cv.COLOR_RGB2GRAY)\n",
    "\n",
    "img_dog = cv.imread('imgs/puppy.jpeg')\n",
    "img_dog_gray = cv.cvtColor(img_dog, cv.COLOR_BGR2GRAY)\n",
    "img_dog_gray = cv.resize(img_dog_gray, (300,300))[...,None]\n",
    "img_tree = img.copy()"
   ]
  },
  {
   "cell_type": "markdown",
   "metadata": {},
   "source": [
    "## Convolutions\n",
    "\n",
    "<img src=\"imgs_markdown/convolution.png\" width=600 height=400/>"
   ]
  },
  {
   "cell_type": "markdown",
   "metadata": {},
   "source": [
    "### Kernels we will be using"
   ]
  },
  {
   "cell_type": "code",
   "execution_count": 3,
   "metadata": {
    "tags": [
     "hide-cell"
    ]
   },
   "outputs": [
    {
     "data": {
      "image/png": "[encoded data removed]",
      "text/plain": [
       "<Figure size 1440x720 with 8 Axes>"
      ]
     },
     "metadata": {
      "needs_background": "light"
     },
     "output_type": "display_data"
    }
   ],
   "source": [
    "images = {\n",
    "    \"tree\": img_tree,\n",
    "    \"tree_gray\": cv.cvtColor(img_tree, cv.COLOR_RGB2GRAY)[...,None],\n",
    "    \"dog_gray\": img_dog_gray\n",
    "}\n",
    "\n",
    "kernels = {\n",
    "    \"box_3\": np.array([\n",
    "        [1/9, 1/9, 1/9], \n",
    "        [1/9, 1/9, 1/9],\n",
    "        [1/9, 1/9, 1/9]\n",
    "    ]),\n",
    "    \"box_5\": np.array([\n",
    "        [1/25, 1/25, 1/25, 1/25, 1/25], \n",
    "        [1/25, 1/25, 1/25, 1/25, 1/25],\n",
    "        [1/25, 1/25, 1/25, 1/25, 1/25],\n",
    "        [1/25, 1/25, 1/25, 1/25, 1/25],\n",
    "        [1/25, 1/25, 1/25, 1/25, 1/25]\n",
    "    ]),\n",
    "    \"shift_1\": np.array([\n",
    "        [0, 0, 0], \n",
    "        [0, 0, 1],\n",
    "        [0, 0, 0]\n",
    "    ]),\n",
    "    \"shift_2\": np.array([\n",
    "        [0, 0, 0], \n",
    "        [1, 0, 0],\n",
    "        [0, 0, 0]\n",
    "    ]),\n",
    "    \"shift_3\": np.array([\n",
    "        [0, 0, 0], \n",
    "        [0, 0, 0],\n",
    "        [0, 1, 0]\n",
    "    ]),\n",
    "    \"borders_v\": np.array([\n",
    "        [1, -1, 0], \n",
    "        [1, -1, 0],\n",
    "        [1, -1, 0]\n",
    "    ]),\n",
    "    \"borders_h\": np.array([\n",
    "        [1, 1, 1], \n",
    "        [-1, -1, -1],\n",
    "        [0, 0, 0]\n",
    "    ]),\n",
    "    \"ridge\": np.array([\n",
    "        [-1, -1, -1], \n",
    "        [-1, 8, -1],\n",
    "        [-1, -1, -1]\n",
    "    ])\n",
    "}\n",
    "\n",
    "\n",
    "\n",
    "fig, axs = plt.subplots(2,4, figsize=(20,10))\n",
    "axs = axs.flatten()\n",
    "\n",
    "for i, (name, kernel) in enumerate(kernels.items()):\n",
    "    ax = axs[i]\n",
    "    plot_matrix(kernel, ax, name)"
   ]
  },
  {
   "cell_type": "markdown",
   "metadata": {},
   "source": [
    "### Convolutions on Gray"
   ]
  },
  {
   "cell_type": "code",
   "execution_count": 6,
   "metadata": {},
   "outputs": [
    {
     "data": {
      "application/vnd.jupyter.widget-view+json": {
       "model_id": "ccf278b02f5a4260b3d97115c60de586",
       "version_major": 2,
       "version_minor": 0
      },
      "text/plain": [
       "interactive(children=(Dropdown(description='pad_mode', options=('constant', 'edge', 'reflect'), value='constan…"
      ]
     },
     "metadata": {},
     "output_type": "display_data"
    }
   ],
   "source": [
    "image_name_0 = \"tree_gray\"\n",
    "img_0 = images[image_name_0].copy()\n",
    "n_pixels_0 = len(img_0[:,:,0].ravel())\n",
    "names = [\"Original\", \"Red\", \"Green\", \"Blue\"]\n",
    "\n",
    "@interact(progress=(0,n_pixels_0), pad_mode = ['constant', 'edge', 'reflect'], kernel_name=list(kernels.keys()), show_details=[True,False])\n",
    "def conv_interact(pad_mode,kernel_name,progress=0, show_details=False):\n",
    "    convolution(img_0, pad_mode,kernel_name,progress, show_details)"
   ]
  },
  {
   "cell_type": "markdown",
   "metadata": {},
   "source": [
    "### Convolutions on RGB"
   ]
  },
  {
   "cell_type": "code",
   "execution_count": null,
   "metadata": {
    "tags": [
     "hide-input"
    ]
   },
   "outputs": [],
   "source": [
    "image_name_1 = \"tree\"\n",
    "img_1 = images[image_name_1].copy()\n",
    "n_pixels_1 = len(img_1[:,:,0].ravel())\n",
    "names = [\"Original\", \"Red\", \"Green\", \"Blue\"]\n",
    "\n",
    "@interact(progress=(0,n_pixels_1), pad_mode = ['constant', 'edge', 'reflect'], kernel_name=list(kernels.keys()), show_details=[True,False])\n",
    "def conv_interact(pad_mode,kernel_name,progress=0, show_details=False):\n",
    "    convolution(img_1, pad_mode,kernel_name,progress, show_details)"
   ]
  },
  {
   "cell_type": "markdown",
   "metadata": {},
   "source": [
    "### Extracting borders with convolutions"
   ]
  },
  {
   "cell_type": "code",
   "execution_count": null,
   "metadata": {},
   "outputs": [],
   "source": [
    "image_name_2 = \"dog_gray\"\n",
    "img_2 = images[image_name_2].copy()\n",
    "n_pixels_2 = len(img_2[:,:,0].ravel())\n",
    "names = [\"Original\", \"Red\", \"Green\", \"Blue\"]\n",
    "\n",
    "@interact(progress=(0,n_pixels_2), pad_mode = ['constant', 'edge', 'reflect'], kernel_name=list(kernels.keys()), show_details=[True,False])\n",
    "def conv_interact(pad_mode,kernel_name,progress=0, show_details=False):\n",
    "    convolution(img_2, pad_mode,kernel_name,progress, show_details)"
   ]
  },
  {
   "cell_type": "markdown",
   "metadata": {},
   "source": [
    "## Binarization and Segmentation\n",
    "\n",
    "We can isolate brighter and darker colour by applying a threshold to the grayscal image, and using the result as a mask on the original image"
   ]
  },
  {
   "cell_type": "code",
   "execution_count": null,
   "metadata": {},
   "outputs": [],
   "source": [
    "# 138 obscures the tree\n",
    "# 175 isolates the flower\n",
    "@interact(thr=(0,255), invert=[True,False])\n",
    "def images_thr(thr, invert):\n",
    "    # img_thr = img_gray.copy()\n",
    "    bin_filter = img_gray > thr\n",
    "    if invert:\n",
    "        bin_filter = np.logical_not(bin_filter)\n",
    "    \n",
    "    # img_thr[bin_filter] = 255\n",
    "    # img_thr[np.logical_not(bin_filter)] = 0\n",
    "    img_thr = np.logical_and(img_gray, bin_filter) *255\n",
    "\n",
    "    img_segmented = img.copy()\n",
    "    img_segmented[np.logical_not(bin_filter)] = 0\n",
    "\n",
    "    fig, (ax1,ax2,ax3,ax4) = plt.subplots(1,4, figsize=(20,15))\n",
    "    ax1.imshow(img, vmin=0, vmax=255)\n",
    "    ax1.set_axis_off()\n",
    "    ax1.set_title('Original')\n",
    "    ax2.imshow(img_gray, cmap='gray',vmin=0, vmax=255)\n",
    "    ax2.set_axis_off()\n",
    "    ax2.set_title('Gray')\n",
    "    ax3.imshow(img_thr, cmap='gray',vmin=0, vmax=255)\n",
    "    ax3.set_axis_off()\n",
    "    ax3.set_title('Threshold Mask')\n",
    "    ax4.imshow(img_segmented, cmap='gray',vmin=0, vmax=255)\n",
    "    ax4.set_axis_off()\n",
    "    ax4.set_title('Segmented Image')"
   ]
  }
 ],
 "metadata": {
  "interpreter": {
   "hash": "69c0d15cd8c93ff2938193fad93ce7a7f43d8a1ea61b422aa17d99ca89ddcacf"
  },
  "kernelspec": {
   "display_name": "Python [conda env:cv101]",
   "language": "python",
   "name": "conda-env-cv101-py"
  },
  "language_info": {
   "codemirror_mode": {
    "name": "ipython",
    "version": 3
   },
   "file_extension": ".py",
   "mimetype": "text/x-python",
   "name": "python",
   "nbconvert_exporter": "python",
   "pygments_lexer": "ipython3",
   "version": "3.9.10"
  }
 },
 "nbformat": 4,
 "nbformat_minor": 2
}
