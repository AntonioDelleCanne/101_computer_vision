{
 "cells": [
  {
   "cell_type": "code",
   "execution_count": 1,
   "metadata": {},
   "outputs": [],
   "source": [
    "import cv2 as cv\n",
    "import matplotlib.pyplot as plt\n",
    "import numpy as np\n",
    "from ipywidgets import interact"
   ]
  },
  {
   "cell_type": "code",
   "execution_count": 2,
   "metadata": {},
   "outputs": [],
   "source": [
    "img = cv.imread('imgs/tree.png')\n",
    "img = cv.cvtColor(img, cv.COLOR_BGR2RGB)\n",
    "img_gray = cv.cvtColor(img, cv.COLOR_BGR2GRAY)"
   ]
  },
  {
   "cell_type": "markdown",
   "metadata": {},
   "source": [
    "## Binarization and Segmentation\n",
    "\n",
    "We can isolate brighter and darker colour by applying a threshold to the grayscal image, and using the result as a mask on the original image"
   ]
  },
  {
   "cell_type": "code",
   "execution_count": 4,
   "metadata": {},
   "outputs": [
    {
     "data": {
      "application/vnd.jupyter.widget-view+json": {
       "model_id": "fc1da8edaffe4f47ac431da8ad090a64",
       "version_major": 2,
       "version_minor": 0
      },
      "text/plain": [
       "interactive(children=(IntSlider(value=127, description='thr', max=255), Dropdown(description='invert', options…"
      ]
     },
     "metadata": {},
     "output_type": "display_data"
    }
   ],
   "source": [
    "# 138 obscures the tree\n",
    "# 175 isolates the flower\n",
    "@interact(thr=(0,255), invert=[True,False])\n",
    "def images_thr(thr, invert):\n",
    "    # img_thr = img_gray.copy()\n",
    "    bin_filter = img_gray > thr\n",
    "    if invert:\n",
    "        bin_filter = np.logical_not(bin_filter)\n",
    "    \n",
    "    # img_thr[bin_filter] = 255\n",
    "    # img_thr[np.logical_not(bin_filter)] = 0\n",
    "    img_thr = np.logical_and(img_gray, bin_filter) *255\n",
    "\n",
    "    img_segmented = img.copy()\n",
    "    img_segmented[np.logical_not(bin_filter)] = 0\n",
    "\n",
    "    fig, (ax1,ax2,ax3,ax4) = plt.subplots(1,4, figsize=(10,10))\n",
    "    ax1.imshow(img, vmin=0, vmax=255)\n",
    "    ax1.set_axis_off()\n",
    "    ax1.set_title('Original')\n",
    "    ax2.imshow(img_gray, cmap='gray',vmin=0, vmax=255)\n",
    "    ax2.set_axis_off()\n",
    "    ax2.set_title('Gray')\n",
    "    ax3.imshow(img_thr, cmap='gray',vmin=0, vmax=255)\n",
    "    ax3.set_axis_off()\n",
    "    ax3.set_title('Threshold Mask')\n",
    "    ax4.imshow(img_segmented, cmap='gray',vmin=0, vmax=255)\n",
    "    ax4.set_axis_off()\n",
    "    ax4.set_title('Segmented Image')"
   ]
  },
  {
   "cell_type": "markdown",
   "metadata": {},
   "source": [
    "## Convolutions"
   ]
  },
  {
   "cell_type": "code",
   "execution_count": 8,
   "metadata": {},
   "outputs": [
    {
     "data": {
      "application/vnd.jupyter.widget-view+json": {
       "model_id": "0715e9679f224bc3a374c5e510f272f3",
       "version_major": 2,
       "version_minor": 0
      },
      "text/plain": [
       "interactive(children=(IntSlider(value=50, description='progress'), Dropdown(description='pad_mode', options=('…"
      ]
     },
     "metadata": {},
     "output_type": "display_data"
    }
   ],
   "source": [
    "n_pixels = len(img[:,:,0].ravel())\n",
    "@interact(progress=(0,n_pixels), pad_mode = ['constant', 'edge', 'reflect'])\n",
    "def convolution(progress, pad_mode):\n",
    "    kernel = np.array([\n",
    "        [1/9, 1/9, 1/9], \n",
    "        [1/9, 1/9, 1/9],\n",
    "        [1/9, 1/9, 1/9]\n",
    "    ])\n",
    "    # apply the convolution\n",
    "    img_transformed = img.copy()\n",
    "    img_pad = np.zeros_like(img, shape=(img.shape[0]+2, img.shape[1]+2,3))\n",
    "    for i in range(3):\n",
    "        img_pad[:,:,i] = np.pad(img[:,:,i], 1, mode=pad_mode)\n",
    "    \n",
    "    for i in range(img.shape[0]):\n",
    "        j=0\n",
    "        if i*img.shape[1] + j >= progress:\n",
    "                break\n",
    "        for j in range(img.shape[1]):\n",
    "            if i*img.shape[1] + j >= progress:\n",
    "                break\n",
    "            for s in range(3):\n",
    "                img_transformed[i,j, s] = (img_pad[i:i+3, j:j+3, s] * kernel).sum()\n",
    "    fig, (ax1,ax2,ax3) = plt.subplots(1,3, figsize=(10,10))\n",
    "    ax1.imshow(img, vmin=0, vmax=255)\n",
    "    ax1.set_axis_off()\n",
    "    ax1.set_title('Original')\n",
    "    ax2.imshow(img_pad, cmap='gray',vmin=0, vmax=255)\n",
    "    ax2.set_axis_off()\n",
    "    ax2.set_title('Padded')\n",
    "    ax3.imshow(img_transformed, cmap='gray',vmin=0, vmax=255)\n",
    "    ax3.set_axis_off()\n",
    "    ax3.set_title('Transformed')\n",
    "\n"
   ]
  }
 ],
 "metadata": {
  "interpreter": {
   "hash": "69c0d15cd8c93ff2938193fad93ce7a7f43d8a1ea61b422aa17d99ca89ddcacf"
  },
  "kernelspec": {
   "display_name": "Python 3.9.10 ('cv101')",
   "language": "python",
   "name": "python3"
  },
  "language_info": {
   "codemirror_mode": {
    "name": "ipython",
    "version": 3
   },
   "file_extension": ".py",
   "mimetype": "text/x-python",
   "name": "python",
   "nbconvert_exporter": "python",
   "pygments_lexer": "ipython3",
   "version": "3.9.10"
  },
  "orig_nbformat": 4
 },
 "nbformat": 4,
 "nbformat_minor": 2
}
